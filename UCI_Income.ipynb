{
 "cells": [
  {
   "cell_type": "code",
   "execution_count": 6,
   "id": "infinite-rouge",
   "metadata": {},
   "outputs": [],
   "source": [
    "#import required libraries \n",
    "\n",
    "import pandas as pd\n",
    "import matplotlib.pyplot as plt\n",
    "import seaborn as sns\n",
    "import numpy as np\n",
    "from sklearn import preprocessing\n"
   ]
  },
  {
   "cell_type": "code",
   "execution_count": 7,
   "id": "elder-clinic",
   "metadata": {},
   "outputs": [],
   "source": [
    "#load uci dataset\n",
    "\n",
    "df=pd.read_csv(\"UCI_data.csv\", names=[\"age\",'workclass','fnlwgt','Education','education_num',\n",
    "                                      'marital_status','occupation','Relationship','race','sex',\n",
    "                                      'capital_gain','capital_loss','hours_per_week','native_country','label'])"
   ]
  },
  {
   "cell_type": "code",
   "execution_count": 8,
   "id": "atlantic-namibia",
   "metadata": {},
   "outputs": [],
   "source": [
    "#dropping redundant columns\n",
    "\n",
    "del(df['Education'])"
   ]
  },
  {
   "cell_type": "code",
   "execution_count": 9,
   "id": "mysterious-struggle",
   "metadata": {},
   "outputs": [],
   "source": [
    "# drop rows containing missing values\n",
    "\n",
    "df=df.replace('?',np.nan)\n",
    "df_refined=df.dropna()"
   ]
  },
  {
   "cell_type": "code",
   "execution_count": 10,
   "id": "circular-anime",
   "metadata": {},
   "outputs": [
    {
     "data": {
      "text/html": [
       "<div>\n",
       "<style scoped>\n",
       "    .dataframe tbody tr th:only-of-type {\n",
       "        vertical-align: middle;\n",
       "    }\n",
       "\n",
       "    .dataframe tbody tr th {\n",
       "        vertical-align: top;\n",
       "    }\n",
       "\n",
       "    .dataframe thead th {\n",
       "        text-align: right;\n",
       "    }\n",
       "</style>\n",
       "<table border=\"1\" class=\"dataframe\">\n",
       "  <thead>\n",
       "    <tr style=\"text-align: right;\">\n",
       "      <th></th>\n",
       "      <th>age</th>\n",
       "      <th>workclass</th>\n",
       "      <th>fnlwgt</th>\n",
       "      <th>education_num</th>\n",
       "      <th>marital_status</th>\n",
       "      <th>occupation</th>\n",
       "      <th>Relationship</th>\n",
       "      <th>race</th>\n",
       "      <th>sex</th>\n",
       "      <th>capital_gain</th>\n",
       "      <th>capital_loss</th>\n",
       "      <th>hours_per_week</th>\n",
       "      <th>native_country</th>\n",
       "      <th>label</th>\n",
       "    </tr>\n",
       "  </thead>\n",
       "  <tbody>\n",
       "    <tr>\n",
       "      <th>0</th>\n",
       "      <td>39</td>\n",
       "      <td>State-gov</td>\n",
       "      <td>77516</td>\n",
       "      <td>13</td>\n",
       "      <td>Never-married</td>\n",
       "      <td>Adm-clerical</td>\n",
       "      <td>Not-in-family</td>\n",
       "      <td>White</td>\n",
       "      <td>Male</td>\n",
       "      <td>2174</td>\n",
       "      <td>0</td>\n",
       "      <td>40</td>\n",
       "      <td>United-States</td>\n",
       "      <td>&lt;=50K</td>\n",
       "    </tr>\n",
       "    <tr>\n",
       "      <th>1</th>\n",
       "      <td>50</td>\n",
       "      <td>Self-emp-not-inc</td>\n",
       "      <td>83311</td>\n",
       "      <td>13</td>\n",
       "      <td>Married-civ-spouse</td>\n",
       "      <td>Exec-managerial</td>\n",
       "      <td>Husband</td>\n",
       "      <td>White</td>\n",
       "      <td>Male</td>\n",
       "      <td>0</td>\n",
       "      <td>0</td>\n",
       "      <td>13</td>\n",
       "      <td>United-States</td>\n",
       "      <td>&lt;=50K</td>\n",
       "    </tr>\n",
       "    <tr>\n",
       "      <th>2</th>\n",
       "      <td>38</td>\n",
       "      <td>Private</td>\n",
       "      <td>215646</td>\n",
       "      <td>9</td>\n",
       "      <td>Divorced</td>\n",
       "      <td>Handlers-cleaners</td>\n",
       "      <td>Not-in-family</td>\n",
       "      <td>White</td>\n",
       "      <td>Male</td>\n",
       "      <td>0</td>\n",
       "      <td>0</td>\n",
       "      <td>40</td>\n",
       "      <td>United-States</td>\n",
       "      <td>&lt;=50K</td>\n",
       "    </tr>\n",
       "    <tr>\n",
       "      <th>3</th>\n",
       "      <td>53</td>\n",
       "      <td>Private</td>\n",
       "      <td>234721</td>\n",
       "      <td>7</td>\n",
       "      <td>Married-civ-spouse</td>\n",
       "      <td>Handlers-cleaners</td>\n",
       "      <td>Husband</td>\n",
       "      <td>Black</td>\n",
       "      <td>Male</td>\n",
       "      <td>0</td>\n",
       "      <td>0</td>\n",
       "      <td>40</td>\n",
       "      <td>United-States</td>\n",
       "      <td>&lt;=50K</td>\n",
       "    </tr>\n",
       "    <tr>\n",
       "      <th>4</th>\n",
       "      <td>28</td>\n",
       "      <td>Private</td>\n",
       "      <td>338409</td>\n",
       "      <td>13</td>\n",
       "      <td>Married-civ-spouse</td>\n",
       "      <td>Prof-specialty</td>\n",
       "      <td>Wife</td>\n",
       "      <td>Black</td>\n",
       "      <td>Female</td>\n",
       "      <td>0</td>\n",
       "      <td>0</td>\n",
       "      <td>40</td>\n",
       "      <td>Cuba</td>\n",
       "      <td>&lt;=50K</td>\n",
       "    </tr>\n",
       "  </tbody>\n",
       "</table>\n",
       "</div>"
      ],
      "text/plain": [
       "   age          workclass  fnlwgt  education_num       marital_status  \\\n",
       "0   39          State-gov   77516             13        Never-married   \n",
       "1   50   Self-emp-not-inc   83311             13   Married-civ-spouse   \n",
       "2   38            Private  215646              9             Divorced   \n",
       "3   53            Private  234721              7   Married-civ-spouse   \n",
       "4   28            Private  338409             13   Married-civ-spouse   \n",
       "\n",
       "           occupation    Relationship    race      sex  capital_gain  \\\n",
       "0        Adm-clerical   Not-in-family   White     Male          2174   \n",
       "1     Exec-managerial         Husband   White     Male             0   \n",
       "2   Handlers-cleaners   Not-in-family   White     Male             0   \n",
       "3   Handlers-cleaners         Husband   Black     Male             0   \n",
       "4      Prof-specialty            Wife   Black   Female             0   \n",
       "\n",
       "   capital_loss  hours_per_week  native_country   label  \n",
       "0             0              40   United-States   <=50K  \n",
       "1             0              13   United-States   <=50K  \n",
       "2             0              40   United-States   <=50K  \n",
       "3             0              40   United-States   <=50K  \n",
       "4             0              40            Cuba   <=50K  "
      ]
     },
     "execution_count": 10,
     "metadata": {},
     "output_type": "execute_result"
    }
   ],
   "source": [
    "df_refined.head()"
   ]
  },
  {
   "cell_type": "code",
   "execution_count": 11,
   "id": "official-delight",
   "metadata": {},
   "outputs": [],
   "source": [
    "\n",
    "workclass=df_refined.workclass.astype('category').cat.codes\n",
    "workclass=pd.Series(workclass)\n",
    "\n",
    "marital_status=df_refined.marital_status.astype('category').cat.codes\n",
    "marital_status=pd.Series(marital_status)\n",
    "\n",
    "occupation=df_refined.occupation.astype('category').cat.codes\n",
    "occupation=pd.Series(occupation)\n",
    "\n",
    "Relationship=df_refined.Relationship.astype('category').cat.codes\n",
    "Relationship=pd.Series(Relationship)\n",
    "\n",
    "race=df_refined.race.astype('category').cat.codes\n",
    "race=pd.Series(race)\n",
    "\n",
    "sex=df_refined.sex.astype('category').cat.codes\n",
    "sex=pd.Series(sex)\n",
    "\n",
    "native_country=df_refined.native_country.astype('category').cat.codes\n",
    "native_country=pd.Series(native_country)\n",
    "\n",
    "education_num=df_refined.education_num.astype('category').cat.codes\n",
    "education_num=pd.Series(education_num)\n",
    "\n",
    "label=df_refined.label.astype('category').cat.codes\n",
    "label=pd.Series(label)\n"
   ]
  },
  {
   "cell_type": "code",
   "execution_count": 12,
   "id": "golden-depression",
   "metadata": {},
   "outputs": [],
   "source": [
    "age=pd.Series(df['age'])\n",
    "\n",
    "fnlwgt=pd.Series(df['fnlwgt'])\n",
    "\n",
    "capital_gain=pd.Series(df['capital_gain'])\n",
    "\n",
    "capital_loss=pd.Series(df['capital_loss'])\n",
    "\n",
    "hours_per_week=pd.Series(df['hours_per_week'])"
   ]
  },
  {
   "cell_type": "code",
   "execution_count": 13,
   "id": "dramatic-protection",
   "metadata": {
    "scrolled": true
   },
   "outputs": [
    {
     "data": {
      "text/plain": [
       "array([1.0000e+00, 6.0000e+00, 2.0000e+00, 4.0000e+00, 0.0000e+00,\n",
       "       4.0000e+00, 1.0000e+00, 3.9000e+01, 1.2000e+01, 5.0000e+01,\n",
       "       8.3311e+04, 0.0000e+00, 0.0000e+00, 1.3000e+01])"
      ]
     },
     "execution_count": 13,
     "metadata": {},
     "output_type": "execute_result"
    }
   ],
   "source": [
    "import statsmodels.api as sm\n",
    "\n",
    "Label=np.array(label)\n",
    "Label=Label.reshape(-1,1)\n",
    "\n",
    "Input=np.column_stack((workclass,marital_status,occupation,Relationship,race,sex,native_country,education_num,age,fnlwgt,\n",
    "                      capital_gain,capital_loss,hours_per_week))\n",
    "Input=sm.tools.add_constant(Input,prepend=True)\n",
    "\n",
    "Input[1]"
   ]
  },
  {
   "cell_type": "code",
   "execution_count": 14,
   "id": "regulated-fruit",
   "metadata": {},
   "outputs": [],
   "source": [
    "#splitting train test data\n",
    "from sklearn.model_selection import train_test_split\n",
    "\n",
    "Train_input, Test_input, Train_label, Test_label = train_test_split(Input,Label, test_size=0.2)"
   ]
  },
  {
   "cell_type": "code",
   "execution_count": 15,
   "id": "velvet-audience",
   "metadata": {},
   "outputs": [
    {
     "name": "stdout",
     "output_type": "stream",
     "text": [
      "MinMaxScaler()\n",
      "MinMaxScaler()\n"
     ]
    }
   ],
   "source": [
    "scaler_x = preprocessing.MinMaxScaler()\n",
    "\n",
    "print(scaler_x.fit(Train_input))\n",
    "\n",
    "\n",
    "Train_input=scaler_x.transform(Train_input)\n",
    "\n",
    "print(scaler_x.fit(Test_input))\n",
    "\n",
    "Test_input=scaler_x.transform(Test_input)"
   ]
  },
  {
   "cell_type": "code",
   "execution_count": 16,
   "id": "greatest-wallace",
   "metadata": {},
   "outputs": [],
   "source": [
    "dropout_rate=0.2\n",
    "import tensorflow as tf\n",
    "from keras import layers, models\n",
    "\n",
    "model= models.Sequential()\n",
    "model.add(tf.keras.Input(shape=(Input.shape[1])))\n",
    "model.add(layers.Dense(15, activation='relu'))\n",
    "model.add(layers.Dense(416768, activation='relu'))\n",
    "model.add(layers.Dense(1, activation='sigmoid'))"
   ]
  },
  {
   "cell_type": "code",
   "execution_count": 17,
   "id": "functioning-bible",
   "metadata": {},
   "outputs": [
    {
     "name": "stdout",
     "output_type": "stream",
     "text": [
      "Model: \"sequential\"\n",
      "_________________________________________________________________\n",
      "Layer (type)                 Output Shape              Param #   \n",
      "=================================================================\n",
      "dense (Dense)                (None, 15)                225       \n",
      "_________________________________________________________________\n",
      "dense_1 (Dense)              (None, 416768)            6668288   \n",
      "_________________________________________________________________\n",
      "dense_2 (Dense)              (None, 1)                 416769    \n",
      "=================================================================\n",
      "Total params: 7,085,282\n",
      "Trainable params: 7,085,282\n",
      "Non-trainable params: 0\n",
      "_________________________________________________________________\n"
     ]
    }
   ],
   "source": [
    "model.summary()"
   ]
  },
  {
   "cell_type": "code",
   "execution_count": 18,
   "id": "growing-migration",
   "metadata": {},
   "outputs": [],
   "source": [
    "model.compile(optimizer='adam', loss=tf.keras.losses.BinaryCrossentropy(),metrics='accuracy')"
   ]
  },
  {
   "cell_type": "code",
   "execution_count": 19,
   "id": "spatial-belly",
   "metadata": {},
   "outputs": [
    {
     "name": "stdout",
     "output_type": "stream",
     "text": [
      "Epoch 1/50\n",
      "204/204 [==============================] - 15s 54ms/step - loss: 0.4390 - accuracy: 0.7919 - val_loss: 0.4065 - val_accuracy: 0.7975\n",
      "Epoch 2/50\n",
      "204/204 [==============================] - 11s 52ms/step - loss: 0.3826 - accuracy: 0.8187 - val_loss: 0.3759 - val_accuracy: 0.8199\n",
      "Epoch 3/50\n",
      "204/204 [==============================] - 11s 52ms/step - loss: 0.3602 - accuracy: 0.8289 - val_loss: 0.3529 - val_accuracy: 0.8323\n",
      "Epoch 4/50\n",
      "204/204 [==============================] - 11s 52ms/step - loss: 0.3468 - accuracy: 0.8372 - val_loss: 0.3495 - val_accuracy: 0.8346\n",
      "Epoch 5/50\n",
      "204/204 [==============================] - 11s 52ms/step - loss: 0.3390 - accuracy: 0.8400 - val_loss: 0.3444 - val_accuracy: 0.8343\n",
      "Epoch 6/50\n",
      "204/204 [==============================] - 11s 52ms/step - loss: 0.3387 - accuracy: 0.8405 - val_loss: 0.3507 - val_accuracy: 0.8303\n",
      "Epoch 7/50\n",
      "204/204 [==============================] - 11s 52ms/step - loss: 0.3406 - accuracy: 0.8405 - val_loss: 0.3414 - val_accuracy: 0.8372\n",
      "Epoch 8/50\n",
      "204/204 [==============================] - 11s 52ms/step - loss: 0.3329 - accuracy: 0.8434 - val_loss: 0.3414 - val_accuracy: 0.8386\n",
      "Epoch 9/50\n",
      "204/204 [==============================] - 11s 52ms/step - loss: 0.3322 - accuracy: 0.8441 - val_loss: 0.3447 - val_accuracy: 0.8365\n",
      "Epoch 10/50\n",
      "204/204 [==============================] - 11s 52ms/step - loss: 0.3342 - accuracy: 0.8425 - val_loss: 0.3531 - val_accuracy: 0.8250\n",
      "Epoch 11/50\n",
      "204/204 [==============================] - 11s 52ms/step - loss: 0.3302 - accuracy: 0.8450 - val_loss: 0.3394 - val_accuracy: 0.8368\n",
      "Epoch 12/50\n",
      "204/204 [==============================] - 11s 52ms/step - loss: 0.3247 - accuracy: 0.8444 - val_loss: 0.3375 - val_accuracy: 0.8365\n",
      "Epoch 13/50\n",
      "204/204 [==============================] - 11s 52ms/step - loss: 0.3270 - accuracy: 0.8443 - val_loss: 0.3375 - val_accuracy: 0.8363\n",
      "Epoch 14/50\n",
      "204/204 [==============================] - 11s 52ms/step - loss: 0.3246 - accuracy: 0.8496 - val_loss: 0.3543 - val_accuracy: 0.8339\n",
      "Epoch 15/50\n",
      "204/204 [==============================] - 11s 52ms/step - loss: 0.3276 - accuracy: 0.8465 - val_loss: 0.3343 - val_accuracy: 0.8391\n",
      "Epoch 16/50\n",
      "204/204 [==============================] - 11s 52ms/step - loss: 0.3282 - accuracy: 0.8468 - val_loss: 0.3366 - val_accuracy: 0.8365\n",
      "Epoch 17/50\n",
      "204/204 [==============================] - 11s 52ms/step - loss: 0.3247 - accuracy: 0.8465 - val_loss: 0.3333 - val_accuracy: 0.8420\n",
      "Epoch 18/50\n",
      "204/204 [==============================] - 11s 52ms/step - loss: 0.3214 - accuracy: 0.8505 - val_loss: 0.3333 - val_accuracy: 0.8429\n",
      "Epoch 19/50\n",
      "204/204 [==============================] - 11s 52ms/step - loss: 0.3208 - accuracy: 0.8498 - val_loss: 0.3346 - val_accuracy: 0.8434\n",
      "Epoch 20/50\n",
      "204/204 [==============================] - 11s 52ms/step - loss: 0.3143 - accuracy: 0.8532 - val_loss: 0.3323 - val_accuracy: 0.8412\n",
      "Epoch 21/50\n",
      "204/204 [==============================] - 11s 52ms/step - loss: 0.3211 - accuracy: 0.8467 - val_loss: 0.3435 - val_accuracy: 0.8394\n",
      "Epoch 22/50\n",
      "204/204 [==============================] - 11s 52ms/step - loss: 0.3155 - accuracy: 0.8500 - val_loss: 0.3392 - val_accuracy: 0.8365\n",
      "Epoch 23/50\n",
      "204/204 [==============================] - 11s 52ms/step - loss: 0.3257 - accuracy: 0.8414 - val_loss: 0.3402 - val_accuracy: 0.8423\n",
      "Epoch 24/50\n",
      "204/204 [==============================] - 11s 52ms/step - loss: 0.3210 - accuracy: 0.8483 - val_loss: 0.3416 - val_accuracy: 0.8380\n",
      "Epoch 25/50\n",
      "204/204 [==============================] - 11s 52ms/step - loss: 0.3207 - accuracy: 0.8482 - val_loss: 0.3338 - val_accuracy: 0.8412\n",
      "Epoch 26/50\n",
      "204/204 [==============================] - 11s 52ms/step - loss: 0.3215 - accuracy: 0.8476 - val_loss: 0.3378 - val_accuracy: 0.8380\n",
      "Epoch 27/50\n",
      "204/204 [==============================] - 11s 52ms/step - loss: 0.3162 - accuracy: 0.8519 - val_loss: 0.3332 - val_accuracy: 0.8434\n",
      "Epoch 28/50\n",
      "204/204 [==============================] - 11s 52ms/step - loss: 0.3162 - accuracy: 0.8505 - val_loss: 0.3388 - val_accuracy: 0.8399\n",
      "Epoch 29/50\n",
      "204/204 [==============================] - 11s 52ms/step - loss: 0.3229 - accuracy: 0.8460 - val_loss: 0.3344 - val_accuracy: 0.8402\n",
      "Epoch 30/50\n",
      "204/204 [==============================] - 11s 52ms/step - loss: 0.3239 - accuracy: 0.8458 - val_loss: 0.3358 - val_accuracy: 0.8406\n",
      "Epoch 31/50\n",
      "204/204 [==============================] - 11s 52ms/step - loss: 0.3184 - accuracy: 0.8508 - val_loss: 0.3342 - val_accuracy: 0.8402\n",
      "Epoch 32/50\n",
      "204/204 [==============================] - 11s 52ms/step - loss: 0.3135 - accuracy: 0.8516 - val_loss: 0.3323 - val_accuracy: 0.8403\n",
      "Epoch 33/50\n",
      "204/204 [==============================] - 11s 52ms/step - loss: 0.3089 - accuracy: 0.8526 - val_loss: 0.3425 - val_accuracy: 0.8426\n",
      "Epoch 34/50\n",
      "204/204 [==============================] - 11s 52ms/step - loss: 0.3154 - accuracy: 0.8507 - val_loss: 0.3363 - val_accuracy: 0.8451\n",
      "Epoch 35/50\n",
      "204/204 [==============================] - 11s 52ms/step - loss: 0.3122 - accuracy: 0.8525 - val_loss: 0.3329 - val_accuracy: 0.8397\n",
      "Epoch 36/50\n",
      "204/204 [==============================] - 11s 52ms/step - loss: 0.3126 - accuracy: 0.8524 - val_loss: 0.3428 - val_accuracy: 0.8385\n",
      "Epoch 37/50\n",
      "204/204 [==============================] - 11s 52ms/step - loss: 0.3170 - accuracy: 0.8482 - val_loss: 0.3332 - val_accuracy: 0.8412\n",
      "Epoch 38/50\n",
      "204/204 [==============================] - 11s 52ms/step - loss: 0.3115 - accuracy: 0.8525 - val_loss: 0.3375 - val_accuracy: 0.8346\n",
      "Epoch 39/50\n",
      "204/204 [==============================] - 11s 52ms/step - loss: 0.3087 - accuracy: 0.8549 - val_loss: 0.3378 - val_accuracy: 0.8380\n",
      "Epoch 40/50\n",
      "204/204 [==============================] - 11s 52ms/step - loss: 0.3124 - accuracy: 0.8503 - val_loss: 0.3352 - val_accuracy: 0.8389\n",
      "Epoch 41/50\n",
      "204/204 [==============================] - 11s 52ms/step - loss: 0.3146 - accuracy: 0.8536 - val_loss: 0.3328 - val_accuracy: 0.8392\n",
      "Epoch 42/50\n",
      "204/204 [==============================] - 11s 52ms/step - loss: 0.3089 - accuracy: 0.8533 - val_loss: 0.3332 - val_accuracy: 0.8452\n",
      "Epoch 43/50\n",
      "204/204 [==============================] - 11s 52ms/step - loss: 0.3136 - accuracy: 0.8504 - val_loss: 0.3331 - val_accuracy: 0.8422\n",
      "Epoch 44/50\n",
      "204/204 [==============================] - 11s 52ms/step - loss: 0.3105 - accuracy: 0.8502 - val_loss: 0.3359 - val_accuracy: 0.8388\n",
      "Epoch 45/50\n",
      "204/204 [==============================] - 11s 52ms/step - loss: 0.3058 - accuracy: 0.8556 - val_loss: 0.3338 - val_accuracy: 0.8426\n",
      "Epoch 46/50\n",
      "204/204 [==============================] - 11s 52ms/step - loss: 0.3092 - accuracy: 0.8536 - val_loss: 0.3314 - val_accuracy: 0.8437\n",
      "Epoch 47/50\n",
      "204/204 [==============================] - 11s 52ms/step - loss: 0.3069 - accuracy: 0.8583 - val_loss: 0.3344 - val_accuracy: 0.8429\n",
      "Epoch 48/50\n",
      "204/204 [==============================] - 11s 52ms/step - loss: 0.3130 - accuracy: 0.8494 - val_loss: 0.3348 - val_accuracy: 0.8412\n",
      "Epoch 49/50\n",
      "204/204 [==============================] - 11s 52ms/step - loss: 0.3102 - accuracy: 0.8510 - val_loss: 0.3357 - val_accuracy: 0.8431\n",
      "Epoch 50/50\n",
      "204/204 [==============================] - 11s 52ms/step - loss: 0.3094 - accuracy: 0.8524 - val_loss: 0.3358 - val_accuracy: 0.8443\n"
     ]
    }
   ],
   "source": [
    "history=model.fit(Train_input,Train_label,batch_size=128,epochs=50,validation_data=(Test_input,Test_label))"
   ]
  },
  {
   "cell_type": "code",
   "execution_count": 20,
   "id": "significant-clause",
   "metadata": {},
   "outputs": [
    {
     "data": {
      "text/plain": [
       "<matplotlib.legend.Legend at 0x7f33c007dd00>"
      ]
     },
     "execution_count": 20,
     "metadata": {},
     "output_type": "execute_result"
    },
    {
     "data": {
      "image/png": "[encoded data removed]",
      "text/plain": [
       "<Figure size 432x288 with 1 Axes>"
      ]
     },
     "metadata": {
      "needs_background": "light"
     },
     "output_type": "display_data"
    }
   ],
   "source": [
    "\n",
    "plt.plot(history.history['accuracy'])\n",
    "plt.plot(history.history['val_accuracy'])\n",
    "plt.xlabel('Epoch')\n",
    "plt.ylabel('accuracy')\n",
    "plt.legend(['accuracy', 'val_accuracy'],loc='lower right')"
   ]
  },
  {
   "cell_type": "code",
   "execution_count": null,
   "id": "atomic-atmosphere",
   "metadata": {},
   "outputs": [],
   "source": []
  }
 ],
 "metadata": {
  "kernelspec": {
   "display_name": "Python 3",
   "language": "python",
   "name": "python3"
  },
  "language_info": {
   "codemirror_mode": {
    "name": "ipython",
    "version": 3
   },
   "file_extension": ".py",
   "mimetype": "text/x-python",
   "name": "python",
   "nbconvert_exporter": "python",
   "pygments_lexer": "ipython3",
   "version": "3.8.8"
  }
 },
 "nbformat": 4,
 "nbformat_minor": 5
}
