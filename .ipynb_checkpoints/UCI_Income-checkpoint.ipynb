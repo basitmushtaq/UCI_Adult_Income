{
 "cells": [
  {
   "cell_type": "code",
   "execution_count": 39,
   "id": "infinite-rouge",
   "metadata": {},
   "outputs": [],
   "source": [
    "#import required libraries \n",
    "\n",
    "import pandas as pd\n",
    "import matplotlib.pyplot as plt\n",
    "import seaborn as sns\n",
    "import numpy as np\n",
    "from sklearn.preprocessing import LabelEncoder"
   ]
  },
  {
   "cell_type": "code",
   "execution_count": 40,
   "id": "elder-clinic",
   "metadata": {},
   "outputs": [],
   "source": [
    "#load uci dataset\n",
    "\n",
    "df=pd.read_csv(\"UCI_data.csv\", names=[\"age\",'workclass','fnlwgt','Education','education_num',\n",
    "                                      'marital_status','occupation','Relationship','race','sex',\n",
    "                                      'capital_gain','capital_loss','hours_per_week','native_country','label'])"
   ]
  },
  {
   "cell_type": "code",
   "execution_count": 41,
   "id": "atlantic-namibia",
   "metadata": {},
   "outputs": [],
   "source": [
    "#dropping redundant columns\n",
    "\n",
    "del(df['Education'])"
   ]
  },
  {
   "cell_type": "code",
   "execution_count": 43,
   "id": "mysterious-struggle",
   "metadata": {},
   "outputs": [],
   "source": [
    "# drop rows containing missing values\n",
    "\n",
    "df=df.replace('?',np.nan)\n",
    "df_refined=df.dropna()"
   ]
  },
  {
   "cell_type": "code",
   "execution_count": 46,
   "id": "dramatic-protection",
   "metadata": {},
   "outputs": [],
   "source": [
    "# encode input classes using LabelEncoder\n",
    "\n",
    "label_encoder = preprocessing.LabelEncoder()\n",
    "df_refined['workclass']=label_encoder.fit_transform(df_refined['workclass'])\n",
    "df_refined['marital_status']=label_encoder.fit_transform(df_refined['marital_status'])\n",
    "df_refined['occupation']=label_encoder.fit_transform(df_refined['occupation'])\n",
    "df_refined['Relationship']=label_encoder.fit_transform(df_refined['Relationship'])\n",
    "df_refined['race']=label_encoder.fit_transform(df_refined['race'])\n",
    "df_refined['sex']=label_encoder.fit_transform(df_refined['sex'])\n",
    "df_refined['native_country']=label_encoder.fit_transform(df_refined['native_country'])\n",
    "df_refined['label']=label_encoder.fit_transform(df_refined['label'])"
   ]
  },
  {
   "cell_type": "code",
   "execution_count": 47,
   "id": "gorgeous-northeast",
   "metadata": {},
   "outputs": [],
   "source": [
    "#Normalize continous data\n",
    "\n",
    "columns_to_normalize=['fnlwgt','capital_gain','capital_loss']\n",
    "df_refined[columns_to_normalize]=df_refined[columns_to_normalize].apply(lambda x: (x - x.min()) / (x.max() - x.min()))"
   ]
  },
  {
   "cell_type": "code",
   "execution_count": 48,
   "id": "finished-performer",
   "metadata": {},
   "outputs": [],
   "source": [
    "# convert dataframe into input numpy array and output numpy array\n",
    "\n",
    "df_input=df_refined.drop('label',axis=1).copy()\n",
    "df_output=df_refined['label'].copy()\n",
    "inputs=df_input.to_numpy()\n",
    "outputs=df_output.to_numpy()\n",
    "outputs=outputs.reshape(-1,1)"
   ]
  }
 ],
 "metadata": {
  "kernelspec": {
   "display_name": "Python 3",
   "language": "python",
   "name": "python3"
  },
  "language_info": {
   "codemirror_mode": {
    "name": "ipython",
    "version": 3
   },
   "file_extension": ".py",
   "mimetype": "text/x-python",
   "name": "python",
   "nbconvert_exporter": "python",
   "pygments_lexer": "ipython3",
   "version": "3.8.8"
  }
 },
 "nbformat": 4,
 "nbformat_minor": 5
}
