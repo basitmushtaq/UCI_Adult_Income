{
 "cells": [
  {
   "cell_type": "code",
   "execution_count": 39,
   "id": "infinite-rouge",
   "metadata": {},
   "outputs": [],
   "source": [
    "#import required libraries \n",
    "\n",
    "import pandas as pd\n",
    "import matplotlib.pyplot as plt\n",
    "import seaborn as sns\n",
    "import numpy as np\n",
    "from sklearn.preprocessing import LabelEncoder\n"
   ]
  },
  {
   "cell_type": "code",
   "execution_count": 40,
   "id": "elder-clinic",
   "metadata": {},
   "outputs": [],
   "source": [
    "#load uci dataset\n",
    "\n",
    "df=pd.read_csv(\"UCI_data.csv\", names=[\"age\",'workclass','fnlwgt','Education','education_num',\n",
    "                                      'marital_status','occupation','Relationship','race','sex',\n",
    "                                      'capital_gain','capital_loss','hours_per_week','native_country','label'])"
   ]
  },
  {
   "cell_type": "code",
   "execution_count": 41,
   "id": "atlantic-namibia",
   "metadata": {},
   "outputs": [],
   "source": [
    "#dropping redundant columns\n",
    "\n",
    "del(df['Education'])"
   ]
  },
  {
   "cell_type": "code",
   "execution_count": 43,
   "id": "mysterious-struggle",
   "metadata": {},
   "outputs": [],
   "source": [
    "# drop rows containing missing values\n",
    "\n",
    "df=df.replace('?',np.nan)\n",
    "df_refined=df.dropna()"
   ]
  },
  {
   "cell_type": "code",
   "execution_count": 46,
   "id": "dramatic-protection",
   "metadata": {},
   "outputs": [],
   "source": [
    "# encode input classes using LabelEncoder\n",
    "\n",
    "label_encoder = preprocessing.LabelEncoder()\n",
    "df_refined['workclass']=label_encoder.fit_transform(df_refined['workclass'])\n",
    "df_refined['marital_status']=label_encoder.fit_transform(df_refined['marital_status'])\n",
    "df_refined['occupation']=label_encoder.fit_transform(df_refined['occupation'])\n",
    "df_refined['Relationship']=label_encoder.fit_transform(df_refined['Relationship'])\n",
    "df_refined['race']=label_encoder.fit_transform(df_refined['race'])\n",
    "df_refined['sex']=label_encoder.fit_transform(df_refined['sex'])\n",
    "df_refined['native_country']=label_encoder.fit_transform(df_refined['native_country'])\n",
    "df_refined['label']=label_encoder.fit_transform(df_refined['label'])"
   ]
  },
  {
   "cell_type": "code",
   "execution_count": 47,
   "id": "gorgeous-northeast",
   "metadata": {},
   "outputs": [],
   "source": [
    "#Normalize continous data\n",
    "\n",
    "columns_to_normalize=['fnlwgt','capital_gain','capital_loss']\n",
    "df_refined[columns_to_normalize]=df_refined[columns_to_normalize].apply(lambda x: (x - x.min()) / (x.max() - x.min()))"
   ]
  },
  {
   "cell_type": "code",
   "execution_count": 48,
   "id": "finished-performer",
   "metadata": {},
   "outputs": [],
   "source": [
    "# convert dataframe into input numpy array and output numpy array\n",
    "\n",
    "df_input=df_refined.drop('label',axis=1).copy()\n",
    "df_output=df_refined['label'].copy()\n",
    "inputs=df_input.to_numpy()\n",
    "outputs=df_output.to_numpy()\n",
    "outputs=outputs.reshape(-1,1)"
   ]
  },
  {
   "cell_type": "code",
   "execution_count": 82,
   "id": "regulated-fruit",
   "metadata": {},
   "outputs": [],
   "source": [
    "#splitting train test data\n",
    "from sklearn.model_selection import train_test_split\n",
    "\n",
    "X_train, X_test, y_train, y_test = train_test_split(inputs,outputs, test_size=0.2)"
   ]
  },
  {
   "cell_type": "code",
   "execution_count": 84,
   "id": "greatest-wallace",
   "metadata": {},
   "outputs": [],
   "source": [
    "dropout_rate=0.2\n",
    "import tensorflow as tf\n",
    "from keras import layers, models\n",
    "\n",
    "model= models.Sequential()\n",
    "model.add(tf.keras.Input(shape=(inputs.shape[1])))\n",
    "model.add(layers.Dense(150, activation='relu'))\n",
    "model.add(layers.Dropout(dropout_rate))\n",
    "model.add(layers.Dense(80, activation='relu'))\n",
    "model.add(layers.Dense(40, activation='relu'))\n",
    "model.add(layers.Dropout(dropout_rate))\n",
    "model.add(layers.Dense(70, activation='relu'))\n",
    "model.add(layers.Dense(25, activation='relu'))\n",
    "model.add(layers.Dropout(dropout_rate))\n",
    "model.add(layers.Dense(10, activation='relu'))\n",
    "model.add(layers.Dense(1, activation='sigmoid'))"
   ]
  },
  {
   "cell_type": "code",
   "execution_count": 85,
   "id": "functioning-bible",
   "metadata": {},
   "outputs": [
    {
     "name": "stdout",
     "output_type": "stream",
     "text": [
      "Model: \"sequential_5\"\n",
      "_________________________________________________________________\n",
      "Layer (type)                 Output Shape              Param #   \n",
      "=================================================================\n",
      "dense_23 (Dense)             (None, 150)               2100      \n",
      "_________________________________________________________________\n",
      "dropout_9 (Dropout)          (None, 150)               0         \n",
      "_________________________________________________________________\n",
      "dense_24 (Dense)             (None, 80)                12080     \n",
      "_________________________________________________________________\n",
      "dense_25 (Dense)             (None, 40)                3240      \n",
      "_________________________________________________________________\n",
      "dropout_10 (Dropout)         (None, 40)                0         \n",
      "_________________________________________________________________\n",
      "dense_26 (Dense)             (None, 70)                2870      \n",
      "_________________________________________________________________\n",
      "dense_27 (Dense)             (None, 25)                1775      \n",
      "_________________________________________________________________\n",
      "dropout_11 (Dropout)         (None, 25)                0         \n",
      "_________________________________________________________________\n",
      "dense_28 (Dense)             (None, 10)                260       \n",
      "_________________________________________________________________\n",
      "dense_29 (Dense)             (None, 1)                 11        \n",
      "=================================================================\n",
      "Total params: 22,336\n",
      "Trainable params: 22,336\n",
      "Non-trainable params: 0\n",
      "_________________________________________________________________\n"
     ]
    }
   ],
   "source": [
    "model.summary()"
   ]
  },
  {
   "cell_type": "code",
   "execution_count": 91,
   "id": "growing-migration",
   "metadata": {},
   "outputs": [],
   "source": [
    "model.compile(optimizer='adam', loss=tf.keras.losses.BinaryCrossentropy(),metrics='accuracy')"
   ]
  },
  {
   "cell_type": "code",
   "execution_count": 93,
   "id": "spatial-belly",
   "metadata": {},
   "outputs": [
    {
     "name": "stdout",
     "output_type": "stream",
     "text": [
      "Epoch 1/50\n",
      "204/204 [==============================] - 2s 9ms/step - loss: nan - accuracy: 0.7579 - val_loss: nan - val_accuracy: 0.7642\n",
      "Epoch 2/50\n",
      "204/204 [==============================] - 2s 8ms/step - loss: nan - accuracy: 0.7579 - val_loss: nan - val_accuracy: 0.7642\n",
      "Epoch 3/50\n",
      "204/204 [==============================] - 2s 8ms/step - loss: nan - accuracy: 0.7579 - val_loss: nan - val_accuracy: 0.7642\n",
      "Epoch 4/50\n",
      "204/204 [==============================] - 2s 9ms/step - loss: nan - accuracy: 0.7579 - val_loss: nan - val_accuracy: 0.7642\n",
      "Epoch 5/50\n",
      "204/204 [==============================] - 2s 8ms/step - loss: nan - accuracy: 0.7579 - val_loss: nan - val_accuracy: 0.7642\n",
      "Epoch 6/50\n",
      "204/204 [==============================] - 2s 9ms/step - loss: nan - accuracy: 0.7579 - val_loss: nan - val_accuracy: 0.7642\n",
      "Epoch 7/50\n",
      "204/204 [==============================] - 2s 8ms/step - loss: nan - accuracy: 0.7579 - val_loss: nan - val_accuracy: 0.7642\n",
      "Epoch 8/50\n",
      "204/204 [==============================] - 2s 8ms/step - loss: nan - accuracy: 0.7579 - val_loss: nan - val_accuracy: 0.7642\n",
      "Epoch 9/50\n",
      "204/204 [==============================] - 2s 8ms/step - loss: nan - accuracy: 0.7579 - val_loss: nan - val_accuracy: 0.7642\n",
      "Epoch 10/50\n",
      "204/204 [==============================] - 2s 9ms/step - loss: nan - accuracy: 0.7579 - val_loss: nan - val_accuracy: 0.7642\n",
      "Epoch 11/50\n",
      "204/204 [==============================] - 2s 10ms/step - loss: nan - accuracy: 0.7579 - val_loss: nan - val_accuracy: 0.7642\n",
      "Epoch 12/50\n",
      "204/204 [==============================] - 2s 9ms/step - loss: nan - accuracy: 0.7579 - val_loss: nan - val_accuracy: 0.7642\n",
      "Epoch 13/50\n",
      "204/204 [==============================] - 2s 8ms/step - loss: nan - accuracy: 0.7579 - val_loss: nan - val_accuracy: 0.7642\n",
      "Epoch 14/50\n",
      "204/204 [==============================] - 2s 10ms/step - loss: nan - accuracy: 0.7579 - val_loss: nan - val_accuracy: 0.7642\n",
      "Epoch 15/50\n",
      "204/204 [==============================] - 2s 8ms/step - loss: nan - accuracy: 0.7579 - val_loss: nan - val_accuracy: 0.7642\n",
      "Epoch 16/50\n",
      "204/204 [==============================] - 2s 9ms/step - loss: nan - accuracy: 0.7579 - val_loss: nan - val_accuracy: 0.7642\n",
      "Epoch 17/50\n",
      "204/204 [==============================] - 2s 9ms/step - loss: nan - accuracy: 0.7579 - val_loss: nan - val_accuracy: 0.7642\n",
      "Epoch 18/50\n",
      "204/204 [==============================] - 2s 8ms/step - loss: nan - accuracy: 0.7579 - val_loss: nan - val_accuracy: 0.7642\n",
      "Epoch 19/50\n",
      "204/204 [==============================] - 2s 9ms/step - loss: nan - accuracy: 0.7579 - val_loss: nan - val_accuracy: 0.7642\n",
      "Epoch 20/50\n",
      "204/204 [==============================] - 2s 9ms/step - loss: nan - accuracy: 0.7579 - val_loss: nan - val_accuracy: 0.7642\n",
      "Epoch 21/50\n",
      "204/204 [==============================] - 2s 9ms/step - loss: nan - accuracy: 0.7579 - val_loss: nan - val_accuracy: 0.7642\n",
      "Epoch 22/50\n",
      "204/204 [==============================] - 2s 10ms/step - loss: nan - accuracy: 0.7579 - val_loss: nan - val_accuracy: 0.7642\n",
      "Epoch 23/50\n",
      "204/204 [==============================] - 2s 10ms/step - loss: nan - accuracy: 0.7579 - val_loss: nan - val_accuracy: 0.7642\n",
      "Epoch 24/50\n",
      "204/204 [==============================] - 2s 9ms/step - loss: nan - accuracy: 0.7579 - val_loss: nan - val_accuracy: 0.7642\n",
      "Epoch 25/50\n",
      "204/204 [==============================] - 2s 8ms/step - loss: nan - accuracy: 0.7579 - val_loss: nan - val_accuracy: 0.7642\n",
      "Epoch 26/50\n",
      "204/204 [==============================] - 2s 9ms/step - loss: nan - accuracy: 0.7579 - val_loss: nan - val_accuracy: 0.7642\n",
      "Epoch 27/50\n",
      "204/204 [==============================] - 2s 7ms/step - loss: nan - accuracy: 0.7579 - val_loss: nan - val_accuracy: 0.7642\n",
      "Epoch 28/50\n",
      "204/204 [==============================] - 2s 8ms/step - loss: nan - accuracy: 0.7579 - val_loss: nan - val_accuracy: 0.7642\n",
      "Epoch 29/50\n",
      "204/204 [==============================] - 2s 9ms/step - loss: nan - accuracy: 0.7579 - val_loss: nan - val_accuracy: 0.7642\n",
      "Epoch 30/50\n",
      "204/204 [==============================] - 2s 9ms/step - loss: nan - accuracy: 0.7579 - val_loss: nan - val_accuracy: 0.7642\n",
      "Epoch 31/50\n",
      "204/204 [==============================] - 2s 8ms/step - loss: nan - accuracy: 0.7579 - val_loss: nan - val_accuracy: 0.7642\n",
      "Epoch 32/50\n",
      "204/204 [==============================] - 2s 9ms/step - loss: nan - accuracy: 0.7579 - val_loss: nan - val_accuracy: 0.7642\n",
      "Epoch 33/50\n",
      "204/204 [==============================] - 2s 9ms/step - loss: nan - accuracy: 0.7579 - val_loss: nan - val_accuracy: 0.7642\n",
      "Epoch 34/50\n",
      "204/204 [==============================] - 2s 8ms/step - loss: nan - accuracy: 0.7579 - val_loss: nan - val_accuracy: 0.7642\n",
      "Epoch 35/50\n",
      "204/204 [==============================] - 2s 9ms/step - loss: nan - accuracy: 0.7579 - val_loss: nan - val_accuracy: 0.7642\n",
      "Epoch 36/50\n",
      "204/204 [==============================] - 2s 11ms/step - loss: nan - accuracy: 0.7579 - val_loss: nan - val_accuracy: 0.7642\n",
      "Epoch 37/50\n",
      "204/204 [==============================] - 2s 11ms/step - loss: nan - accuracy: 0.7579 - val_loss: nan - val_accuracy: 0.7642\n",
      "Epoch 38/50\n",
      "204/204 [==============================] - 1s 7ms/step - loss: nan - accuracy: 0.7579 - val_loss: nan - val_accuracy: 0.7642\n",
      "Epoch 39/50\n",
      "204/204 [==============================] - 2s 8ms/step - loss: nan - accuracy: 0.7579 - val_loss: nan - val_accuracy: 0.7642\n",
      "Epoch 40/50\n",
      "204/204 [==============================] - 2s 9ms/step - loss: nan - accuracy: 0.7579 - val_loss: nan - val_accuracy: 0.7642\n",
      "Epoch 41/50\n",
      "204/204 [==============================] - 2s 9ms/step - loss: nan - accuracy: 0.7579 - val_loss: nan - val_accuracy: 0.7642\n",
      "Epoch 42/50\n",
      "204/204 [==============================] - 2s 8ms/step - loss: nan - accuracy: 0.7579 - val_loss: nan - val_accuracy: 0.7642\n",
      "Epoch 43/50\n",
      "204/204 [==============================] - 2s 9ms/step - loss: nan - accuracy: 0.7579 - val_loss: nan - val_accuracy: 0.7642\n",
      "Epoch 44/50\n",
      "204/204 [==============================] - 1s 7ms/step - loss: nan - accuracy: 0.7579 - val_loss: nan - val_accuracy: 0.7642\n",
      "Epoch 45/50\n",
      "204/204 [==============================] - 2s 10ms/step - loss: nan - accuracy: 0.7579 - val_loss: nan - val_accuracy: 0.7642\n",
      "Epoch 46/50\n",
      "204/204 [==============================] - 2s 10ms/step - loss: nan - accuracy: 0.7579 - val_loss: nan - val_accuracy: 0.7642\n",
      "Epoch 47/50\n",
      "204/204 [==============================] - 2s 10ms/step - loss: nan - accuracy: 0.7579 - val_loss: nan - val_accuracy: 0.7642\n",
      "Epoch 48/50\n",
      "204/204 [==============================] - 2s 8ms/step - loss: nan - accuracy: 0.7579 - val_loss: nan - val_accuracy: 0.7642\n",
      "Epoch 49/50\n",
      "204/204 [==============================] - 2s 8ms/step - loss: nan - accuracy: 0.7579 - val_loss: nan - val_accuracy: 0.7642\n",
      "Epoch 50/50\n",
      "204/204 [==============================] - 2s 8ms/step - loss: nan - accuracy: 0.7579 - val_loss: nan - val_accuracy: 0.7642\n"
     ]
    }
   ],
   "source": [
    "history=model.fit(X_train,y_train,batch_size=128,epochs=50,validation_data=(X_test,y_test))"
   ]
  },
  {
   "cell_type": "code",
   "execution_count": 95,
   "id": "significant-clause",
   "metadata": {},
   "outputs": [
    {
     "data": {
      "text/plain": [
       "<matplotlib.legend.Legend at 0x7f4f9404b5b0>"
      ]
     },
     "execution_count": 95,
     "metadata": {},
     "output_type": "execute_result"
    },
    {
     "data": {
      "image/png": "[encoded data removed]",
      "text/plain": [
       "<Figure size 432x288 with 1 Axes>"
      ]
     },
     "metadata": {
      "needs_background": "light"
     },
     "output_type": "display_data"
    }
   ],
   "source": [
    "\n",
    "plt.plot(history.history['accuracy'])\n",
    "plt.plot(history.history['val_accuracy'])\n",
    "plt.xlabel('Epoch')\n",
    "plt.ylabel('accuracy')\n",
    "plt.legend(['accuracy', 'val_accuracy'],loc='lower right')"
   ]
  },
  {
   "cell_type": "code",
   "execution_count": null,
   "id": "atomic-atmosphere",
   "metadata": {},
   "outputs": [],
   "source": []
  }
 ],
 "metadata": {
  "kernelspec": {
   "display_name": "Python 3",
   "language": "python",
   "name": "python3"
  },
  "language_info": {
   "codemirror_mode": {
    "name": "ipython",
    "version": 3
   },
   "file_extension": ".py",
   "mimetype": "text/x-python",
   "name": "python",
   "nbconvert_exporter": "python",
   "pygments_lexer": "ipython3",
   "version": "3.8.8"
  }
 },
 "nbformat": 4,
 "nbformat_minor": 5
}
